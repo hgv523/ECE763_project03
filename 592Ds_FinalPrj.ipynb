{
  "nbformat": 4,
  "nbformat_minor": 0,
  "metadata": {
    "colab": {
      "name": "592Ds_FinalPrj",
      "provenance": [],
      "collapsed_sections": [],
      "include_colab_link": true
    },
    "kernelspec": {
      "name": "python3",
      "display_name": "Python 3"
    }
  },
  "cells": [
    {
      "cell_type": "markdown",
      "metadata": {
        "id": "view-in-github",
        "colab_type": "text"
      },
      "source": [
        "<a href=\"https://colab.research.google.com/github/hgv523/ECE763_project03/blob/master/592Ds_FinalPrj.ipynb\" target=\"_parent\"><img src=\"https://colab.research.google.com/assets/colab-badge.svg\" alt=\"Open In Colab\"/></a>"
      ]
    },
    {
      "cell_type": "code",
      "metadata": {
        "id": "AwLpVwC3Dj-V"
      },
      "source": [
        "import random\n",
        "import time\n",
        "import sys   \n",
        "sys.setrecursionlimit(10000000) "
      ],
      "execution_count": 14,
      "outputs": []
    },
    {
      "cell_type": "code",
      "metadata": {
        "id": "sKxXz6HJDGPt",
        "outputId": "2d77ae2d-422a-4381-8c85-a6865e3412c6",
        "colab": {
          "base_uri": "https://localhost:8080/"
        }
      },
      "source": [
        "'''\n",
        "code-1: take the first element as basis pivot\n",
        "partition function\n",
        "input: sorting list, l, r:the starting position of partition zone, length-1\n",
        "function:taking the first element as pivot v, put elements that smaller than v in the left, greater than v in the right\n",
        "output: return the boundary j that separate two parts\n",
        "'''\n",
        "def partition_first_base(nums,l,r):\n",
        "  \n",
        "    v=nums[l]    #take the first element as pivot\n",
        "    j=l         #starting index j\n",
        "    for i in range(l+1,r+1):#traverse all the elements except pivot v\n",
        "        if nums[i]<v:       #if smaller than v\n",
        "            nums[i],nums[j+1]=nums[j+1],nums[i]#swap\n",
        "            j+=1\n",
        "    nums[l],nums[j]=nums[j],nums[l]#swap pivot and last element that is smaller than pivot\n",
        "    return j\n",
        "\n",
        "'''\n",
        "quicksort\n",
        "input： sorting list, l: starting list, r:length-1\n",
        "output: return sorterd list\n",
        "'''\n",
        "def quick_sort(nums,l,r):\n",
        "    if l>=r:\n",
        "        return nums\n",
        "    else:\n",
        "        m=partition_first_base(nums,l,r)\n",
        "        quick_sort(nums,l,m-1)\n",
        "        quick_sort(nums,m+1,r)\n",
        "    return nums\n",
        "random.seed(2)\n",
        "num=[10,100,1000,10000,100000,1000000,10000000]\n",
        "t_1=[]\n",
        "for i in range(len(num)):\n",
        "  l = [x for x in range(0, num[i])]\n",
        "  random.shuffle(l)\n",
        "  start = time.time()\n",
        "  quick_sort(l,0,len(l)-1)\n",
        "  end = time.time()\n",
        "  t1 = end-start\n",
        "  t_1.append(t1)\n",
        "print(t_1)"
      ],
      "execution_count": 15,
      "outputs": [
        {
          "output_type": "stream",
          "text": [
            "[2.6226043701171875e-05, 0.0001277923583984375, 0.0018491744995117188, 0.037900686264038086, 0.35192346572875977, 5.021446228027344, 72.59487104415894]\n"
          ],
          "name": "stdout"
        }
      ]
    },
    {
      "cell_type": "code",
      "metadata": {
        "id": "EM_Tq-oVDVHD",
        "outputId": "03499fa6-613f-4187-d852-c7e7b4387c0a",
        "colab": {
          "base_uri": "https://localhost:8080/"
        }
      },
      "source": [
        "'''\n",
        "code-2: take the last element as basis pivot\n",
        "partition function\n",
        "input: sorting list, l, r:the starting position of partition zone, length-1\n",
        "function:taking the last element as pivot v, put elements that smaller than v in the left, greater than v in the right\n",
        "output: return the boundary j that separate two parts\n",
        "'''\n",
        "\n",
        "def partition_last_base(nums,l,r):\n",
        "  \n",
        "    v=nums[r]#take the last element as pivot\n",
        "    j=l\n",
        "    for i in range(l,r):#traverse all the elemtns except pivot element\n",
        "        if nums[i]<v:\n",
        "            nums[i],nums[j]=nums[j],nums[i]\n",
        "            j+=1\n",
        "    nums[r],nums[j]=nums[j],nums[r]#swap pivot element and last element that is smaller than pivot element\n",
        "    return j\n",
        "\n",
        "'''\n",
        "quicksort\n",
        "input： sorting list, l: starting list, r:length-1\n",
        "output: return sorterd list\n",
        "'''\n",
        "def quick_sort_2(nums,l,r):\n",
        "    if l>=r:\n",
        "        return nums\n",
        "    else:\n",
        "        m=partition_last_base(nums,l,r)\n",
        "        quick_sort_2(nums,l,m-1)\n",
        "        quick_sort_2(nums,m+1,r)\n",
        "    return nums\n",
        "\n",
        "random.seed(2)\n",
        "num=[10,100,1000,10000,100000,1000000,10000000]\n",
        "t_2=[]\n",
        "for i in range(len(num)):\n",
        "  l = [x for x in range(0, num[i])]\n",
        "  random.shuffle(l)\n",
        "  start = time.time()\n",
        "  quick_sort(l,0,len(l)-1)\n",
        "  end = time.time()\n",
        "  t2 = end-start\n",
        "  t_2.append(t2)\n",
        "print(t_2)\n"
      ],
      "execution_count": 16,
      "outputs": [
        {
          "output_type": "stream",
          "text": [
            "[1.811981201171875e-05, 0.00012755393981933594, 0.0017809867858886719, 0.03137564659118652, 0.3623678684234619, 5.005523204803467, 73.9311363697052]\n"
          ],
          "name": "stdout"
        }
      ]
    },
    {
      "cell_type": "code",
      "metadata": {
        "id": "u5pUdksCDe6M",
        "outputId": "2ccc7628-8a80-4ac5-e7c3-2edde19abfee",
        "colab": {
          "base_uri": "https://localhost:8080/"
        }
      },
      "source": [
        "'''\n",
        "code-3: take a random element as basis pivot\n",
        "partition function\n",
        "input: sorting list, l, r:the starting position of partition zone, length-1\n",
        "function:taking the random element as pivot v, put elements that smaller than v in the left, greater than v in the right\n",
        "output: return the boundary j that separate two parts\n",
        "'''\n",
        "\n",
        "import random\n",
        "def partition_random(nums,l,r):\n",
        "    m=random.randint(l,r)#randint generate a random number\n",
        "    nums[l],nums[m]=nums[m],nums[l]#take the random number as pivot element\n",
        "    v=nums[l]\n",
        "    j=l         #starting index j\n",
        "    for i in range(l+1,r+1):#traverse all the elements except pivot element\n",
        "        if nums[i]<v:       #if smaller than pivot element\n",
        "            nums[i],nums[j+1]=nums[j+1],nums[i]#swap elements\n",
        "            j+=1\n",
        "    nums[l],nums[j]=nums[j],nums[l]#swap pivot element and last element that is smaller than pivot element\n",
        "    return j\n",
        "'''\n",
        "quicksort\n",
        "input： sorting list, l: starting list, r:length-1\n",
        "output: return sorterd list\n",
        "'''\n",
        "def quick_sort_random(nums,l,r):\n",
        "    if l>=r:\n",
        "        return nums\n",
        "    else:\n",
        "        m=partition_random(nums,l,r)\n",
        "        quick_sort_random(nums,l,m-1)\n",
        "        quick_sort_random(nums,m+1,r)\n",
        "    return nums\n",
        "\n",
        "random.seed(2)\n",
        "num=[10,100,1000,10000,100000,1000000,10000000]\n",
        "t_3=[]\n",
        "for i in range(len(num)):\n",
        "  l = [x for x in range(0, num[i])]\n",
        "  random.shuffle(l)\n",
        "  start = time.time()\n",
        "  quick_sort(l,0,len(l)-1)\n",
        "  end = time.time()\n",
        "  t3 = end-start\n",
        "  t_3.append(t3)\n",
        "print(t_3)"
      ],
      "execution_count": 17,
      "outputs": [
        {
          "output_type": "stream",
          "text": [
            "[1.8596649169921875e-05, 0.00012826919555664062, 0.0017399787902832031, 0.04245877265930176, 0.3627922534942627, 5.013499975204468, 72.92878937721252]\n"
          ],
          "name": "stdout"
        }
      ]
    },
    {
      "cell_type": "code",
      "metadata": {
        "id": "fkfYMTE4Dg2L",
        "outputId": "2ec9f67b-dd98-4aa8-9eaa-4fe2bcbae518",
        "colab": {
          "base_uri": "https://localhost:8080/"
        }
      },
      "source": [
        "'''\n",
        "dual-pivot quicksort function\n",
        "'''\n",
        "def partition_double(nums,l,r):\n",
        "    m=random.randint(l,r)#randint generate a random number\n",
        "    nums[l],nums[m]=nums[m],nums[l]#take the random number as pivot element\n",
        "    v=nums[l]\n",
        "    i,j=l+1,r\n",
        "    while True:\n",
        "        while i<=r and nums[i]<v:\n",
        "            i+=1\n",
        "        while j>=1 and nums[j]>v:\n",
        "            j-=1\n",
        "        if i>j:\n",
        "            break\n",
        "        else:\n",
        "            nums[i],nums[j]=nums[j],nums[i]\n",
        "            i+=1\n",
        "            j-=1\n",
        "    nums[j],nums[l]=nums[l],nums[j]\n",
        "    return j\n",
        "'''\n",
        "dual-pivot quicksort\n",
        "input： sorting list, l: starting list, r:length-1\n",
        "output: return sorterd list\n",
        "'''\n",
        "def quick_sort_double(nums,l,r):\n",
        "    if l<r:\n",
        "        m=partition_double(nums,l,r)\n",
        "        quick_sort_double(nums,l,m-1)\n",
        "        quick_sort_double(nums,m+1,l)\n",
        "    return nums\n",
        "\n",
        "random.seed(2)\n",
        "num=[10,100,1000,10000,100000,1000000,10000000]\n",
        "t_4=[]\n",
        "for i in range(len(num)):\n",
        "  l = [x for x in range(0, num[i])]\n",
        "  random.shuffle(l)\n",
        "  start = time.time()\n",
        "  quick_sort(l,0,len(l)-1)\n",
        "  end = time.time()\n",
        "  t4 = end-start\n",
        "  t_4.append(t4)\n",
        "print(t_4)"
      ],
      "execution_count": 18,
      "outputs": [
        {
          "output_type": "stream",
          "text": [
            "[2.288818359375e-05, 0.00020956993103027344, 0.004015445709228516, 0.028316736221313477, 0.37607645988464355, 5.028138160705566, 72.2933623790741]\n"
          ],
          "name": "stdout"
        }
      ]
    },
    {
      "cell_type": "code",
      "metadata": {
        "id": "FGv510AEGX_w",
        "outputId": "c481c912-3ab7-4e2c-83c8-164bb0c82716",
        "colab": {
          "base_uri": "https://localhost:8080/"
        }
      },
      "source": [
        "'''\n",
        "triple-pivot quicksort function\n",
        "'''\n",
        "def partition_three_ways(nums,l,r):\n",
        "    m=random.randint(l,r)#randin generate a random number\n",
        "    nums[l],nums[m]=nums[m],nums[l]#take the random number as pivot element\n",
        "    v=nums[l]\n",
        "    lt=l # nums[l+1...lt]<v,lt initialize with l, make sure it is invalid initally\n",
        "    gt=r+1# nums[gt...len(nums)-1]>v\n",
        "    i=l+1 # nums[lt+1...i]==v\n",
        "    while i<gt:\n",
        "        # i==gt reprents the end of comparsion\n",
        "        if nums[i]<v:\n",
        "            nums[i],nums[lt+1]=nums[lt+1],nums[i]\n",
        "            lt+=1\n",
        "            i+=1\n",
        "        elif nums[i]>v:\n",
        "            nums[i],nums[gt-1]=nums[gt-1],nums[i]\n",
        "            gt-=1\n",
        "        else:# nums[i]==v\n",
        "            i+=1\n",
        "    nums[l],nums[lt]=nums[lt],nums[l]\n",
        "    return lt,gt\n",
        "'''\n",
        "triple-pivot quicksort\n",
        "input： sorting list, l: starting list, r:length-1\n",
        "output: return sorterd list\n",
        "'''\n",
        "def quick_sort_three_ways(nums,l,r):\n",
        "    if l<r:\n",
        "        lt,gt= partition_three_ways(nums,l,r)\n",
        "        quick_sort_three_ways(nums,l,lt-1)\n",
        "        quick_sort_three_ways(nums,gt,r)\n",
        "    return nums\n",
        "\n",
        "random.seed(2)\n",
        "num=[10,100,1000,10000,100000,1000000,10000000]\n",
        "t_5=[]\n",
        "for i in range(len(num)):\n",
        "  l = [x for x in range(0, num[i])]\n",
        "  random.shuffle(l)\n",
        "  start = time.time()\n",
        "  quick_sort(l,0,len(l)-1)\n",
        "  end = time.time()\n",
        "  t5 = end-start\n",
        "  t_5.append(t5)\n",
        "print(t_5)"
      ],
      "execution_count": 19,
      "outputs": [
        {
          "output_type": "stream",
          "text": [
            "[1.8596649169921875e-05, 0.00012683868408203125, 0.002225160598754883, 0.030878305435180664, 0.36151862144470215, 5.134765863418579, 73.64164209365845]\n"
          ],
          "name": "stdout"
        }
      ]
    },
    {
      "cell_type": "code",
      "metadata": {
        "id": "91I4_LjBGELG"
      },
      "source": [
        ""
      ],
      "execution_count": 19,
      "outputs": []
    }
  ]
}